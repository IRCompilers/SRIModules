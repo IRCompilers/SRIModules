{
 "cells": [
  {
   "cell_type": "code",
   "execution_count": 1,
   "id": "initial_id",
   "metadata": {
    "collapsed": true,
    "ExecuteTime": {
     "end_time": "2024-02-26T00:52:25.909939Z",
     "start_time": "2024-02-26T00:52:24.567209Z"
    }
   },
   "outputs": [],
   "source": [
    "import os\n",
    "\n",
    "import numpy as np\n",
    "\n",
    "from src.code.io import LoadDocumentText\n",
    "from src.code.populate import PopulateDocuments\n",
    "from src.code.querier import Query\n",
    "from src.code.vectorizer import Vectorize"
   ]
  },
  {
   "cell_type": "code",
   "outputs": [],
   "source": [
    "base_path = os.path.join(\"..\", \"..\", \"data\")\n",
    "doc_amount = 5000\n",
    "dataset, tokenized_docs = PopulateDocuments(base_path, doc_amount)"
   ],
   "metadata": {
    "collapsed": false,
    "ExecuteTime": {
     "end_time": "2024-02-26T00:52:25.958409Z",
     "start_time": "2024-02-26T00:52:25.910471Z"
    }
   },
   "id": "94148abc58c9b542",
   "execution_count": 2
  },
  {
   "cell_type": "code",
   "outputs": [],
   "source": [
    "doc_text_raw_path = os.path.join(base_path, \"documents.txt\")\n",
    "docs_text_raw = {id: text for id, text in LoadDocumentText(doc_text_raw_path)}"
   ],
   "metadata": {
    "collapsed": false,
    "ExecuteTime": {
     "end_time": "2024-02-26T00:54:42.647401Z",
     "start_time": "2024-02-26T00:54:42.629282Z"
    }
   },
   "id": "3e79d5549e74d6ab",
   "execution_count": 12
  },
  {
   "cell_type": "code",
   "outputs": [],
   "source": [
    "query = \"covid or vaccine and not flu\""
   ],
   "metadata": {
    "collapsed": false,
    "ExecuteTime": {
     "end_time": "2024-02-26T00:54:46.254140Z",
     "start_time": "2024-02-26T00:54:46.251451Z"
    }
   },
   "id": "ba3aaf61dc6e1bac",
   "execution_count": 13
  },
  {
   "cell_type": "code",
   "outputs": [],
   "source": [
    "doc_ids = [doc[0] for doc in tokenized_docs]\n",
    "doc_words = [doc[1] for doc in tokenized_docs]\n",
    "\n",
    "vector_path = os.path.join(\"..\", \"..\", \"data\", \"vectorized_data.pkl\")\n",
    "dictionary, corpus, tfidf, index = Vectorize(doc_words, vector_path)"
   ],
   "metadata": {
    "collapsed": false,
    "ExecuteTime": {
     "end_time": "2024-02-26T00:54:47.804613Z",
     "start_time": "2024-02-26T00:54:47.752287Z"
    }
   },
   "id": "7892ad94c2f40d96",
   "execution_count": 14
  },
  {
   "cell_type": "code",
   "outputs": [],
   "source": [
    "query_results = Query(query, dictionary, tfidf, index, doc_ids)"
   ],
   "metadata": {
    "collapsed": false,
    "ExecuteTime": {
     "end_time": "2024-02-26T00:54:48.994839Z",
     "start_time": "2024-02-26T00:54:48.963823Z"
    }
   },
   "id": "f123ce88440ac9f8",
   "execution_count": 15
  },
  {
   "cell_type": "code",
   "outputs": [],
   "source": [
    "results = [(id, score, docs_text_raw[id]) for id, score in query_results]"
   ],
   "metadata": {
    "collapsed": false,
    "ExecuteTime": {
     "end_time": "2024-02-26T00:56:26.121613Z",
     "start_time": "2024-02-26T00:56:26.118702Z"
    }
   },
   "id": "2ca9f66074699fe9",
   "execution_count": 17
  },
  {
   "cell_type": "code",
   "outputs": [
    {
     "data": {
      "text/plain": "          ID     Score                                               Text\n0   ctass7hz  0.445607   Replicating recombinant vector vaccines consi...\n1   d4rq1du1  0.385327   Despite the significant progress in the recen...\n2   as03o4rl  0.384209   BACKGROUND: The national stockpile for influe...\n3   lyp24gh5  0.365068   Vaccination is one of the most successful imm...\n4   dw5b1o45  0.349287   Background. This phase 2/3, randomized, place...\n..       ...       ...                                                ...\n80  jppa2pbw  0.133008   BACKGROUND: Felid herpesvirus 1 (FHV-1) cause...\n81  3bdey2mz  0.132989   BACKGROUND: Liver fluke infection of livestoc...\n82  rkdvds4t  0.132876   The mosquito-borne chikungunya virus (CHIKV) ...\n83  pr9i9swk  0.132294   Pre-existing immunity to human adenovirus ser...\n84  5wz79c2l  0.131414   Recombinant vaccine strain-derived measles vi...\n\n[85 rows x 3 columns]",
      "text/html": "<div>\n<style scoped>\n    .dataframe tbody tr th:only-of-type {\n        vertical-align: middle;\n    }\n\n    .dataframe tbody tr th {\n        vertical-align: top;\n    }\n\n    .dataframe thead th {\n        text-align: right;\n    }\n</style>\n<table border=\"1\" class=\"dataframe\">\n  <thead>\n    <tr style=\"text-align: right;\">\n      <th></th>\n      <th>ID</th>\n      <th>Score</th>\n      <th>Text</th>\n    </tr>\n  </thead>\n  <tbody>\n    <tr>\n      <th>0</th>\n      <td>ctass7hz</td>\n      <td>0.445607</td>\n      <td>Replicating recombinant vector vaccines consi...</td>\n    </tr>\n    <tr>\n      <th>1</th>\n      <td>d4rq1du1</td>\n      <td>0.385327</td>\n      <td>Despite the significant progress in the recen...</td>\n    </tr>\n    <tr>\n      <th>2</th>\n      <td>as03o4rl</td>\n      <td>0.384209</td>\n      <td>BACKGROUND: The national stockpile for influe...</td>\n    </tr>\n    <tr>\n      <th>3</th>\n      <td>lyp24gh5</td>\n      <td>0.365068</td>\n      <td>Vaccination is one of the most successful imm...</td>\n    </tr>\n    <tr>\n      <th>4</th>\n      <td>dw5b1o45</td>\n      <td>0.349287</td>\n      <td>Background. This phase 2/3, randomized, place...</td>\n    </tr>\n    <tr>\n      <th>...</th>\n      <td>...</td>\n      <td>...</td>\n      <td>...</td>\n    </tr>\n    <tr>\n      <th>80</th>\n      <td>jppa2pbw</td>\n      <td>0.133008</td>\n      <td>BACKGROUND: Felid herpesvirus 1 (FHV-1) cause...</td>\n    </tr>\n    <tr>\n      <th>81</th>\n      <td>3bdey2mz</td>\n      <td>0.132989</td>\n      <td>BACKGROUND: Liver fluke infection of livestoc...</td>\n    </tr>\n    <tr>\n      <th>82</th>\n      <td>rkdvds4t</td>\n      <td>0.132876</td>\n      <td>The mosquito-borne chikungunya virus (CHIKV) ...</td>\n    </tr>\n    <tr>\n      <th>83</th>\n      <td>pr9i9swk</td>\n      <td>0.132294</td>\n      <td>Pre-existing immunity to human adenovirus ser...</td>\n    </tr>\n    <tr>\n      <th>84</th>\n      <td>5wz79c2l</td>\n      <td>0.131414</td>\n      <td>Recombinant vaccine strain-derived measles vi...</td>\n    </tr>\n  </tbody>\n</table>\n<p>85 rows × 3 columns</p>\n</div>"
     },
     "execution_count": 19,
     "metadata": {},
     "output_type": "execute_result"
    }
   ],
   "source": [
    "import pandas as pd\n",
    "\n",
    "df = pd.DataFrame(results, columns=['ID', 'Score', 'Text'])\n",
    "\n",
    "# Display the DataFrame\n",
    "df"
   ],
   "metadata": {
    "collapsed": false,
    "ExecuteTime": {
     "end_time": "2024-02-26T00:57:33.741636Z",
     "start_time": "2024-02-26T00:57:33.554472Z"
    }
   },
   "id": "11d590f2098748bc",
   "execution_count": 19
  },
  {
   "cell_type": "code",
   "outputs": [],
   "source": [],
   "metadata": {
    "collapsed": false,
    "ExecuteTime": {
     "end_time": "2024-02-26T00:52:26.915188Z",
     "start_time": "2024-02-26T00:52:26.909642Z"
    }
   },
   "id": "2e5781cb7d25a797"
  }
 ],
 "metadata": {
  "kernelspec": {
   "display_name": "Python 3",
   "language": "python",
   "name": "python3"
  },
  "language_info": {
   "codemirror_mode": {
    "name": "ipython",
    "version": 2
   },
   "file_extension": ".py",
   "mimetype": "text/x-python",
   "name": "python",
   "nbconvert_exporter": "python",
   "pygments_lexer": "ipython2",
   "version": "2.7.6"
  }
 },
 "nbformat": 4,
 "nbformat_minor": 5
}
