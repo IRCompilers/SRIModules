{
 "cells": [
  {
   "cell_type": "code",
   "execution_count": 1,
   "id": "initial_id",
   "metadata": {
    "collapsed": true,
    "ExecuteTime": {
     "end_time": "2024-02-27T00:25:30.274267Z",
     "start_time": "2024-02-27T00:25:29.094744Z"
    }
   },
   "outputs": [],
   "source": [
    "import os\n",
    "\n",
    "import pandas as pd\n",
    "\n",
    "from src.code.io import LoadDocumentText\n",
    "from src.code.populate import PopulateDocuments\n",
    "from src.code.querier import Query\n",
    "from src.code.vectorizer import Vectorize"
   ]
  },
  {
   "cell_type": "code",
   "outputs": [],
   "source": [
    "base_path = os.path.join(\"..\", \"..\", \"data\")\n",
    "doc_amount = 50000\n",
    "dataset, tokenized_docs = PopulateDocuments(base_path, doc_amount)"
   ],
   "metadata": {
    "collapsed": false,
    "ExecuteTime": {
     "end_time": "2024-02-27T00:25:38.348135Z",
     "start_time": "2024-02-27T00:25:37.886541Z"
    }
   },
   "id": "94148abc58c9b542",
   "execution_count": 2
  },
  {
   "cell_type": "code",
   "outputs": [],
   "source": [
    "doc_text_raw_path = os.path.join(base_path, \"documents.txt\")\n",
    "docs_text_raw = {id: text for id, text in LoadDocumentText(doc_text_raw_path)}"
   ],
   "metadata": {
    "collapsed": false,
    "ExecuteTime": {
     "end_time": "2024-02-27T00:25:42.542832Z",
     "start_time": "2024-02-27T00:25:42.439035Z"
    }
   },
   "id": "3e79d5549e74d6ab",
   "execution_count": 3
  },
  {
   "cell_type": "code",
   "outputs": [],
   "source": [
    "doc_ids = [doc[0] for doc in tokenized_docs]\n",
    "doc_words = [doc[1] for doc in tokenized_docs]\n",
    "\n",
    "vector_path = os.path.join(\"..\", \"..\", \"data\", \"vectorized_data.pkl\")\n",
    "dictionary, corpus, tfidf, index = Vectorize(doc_words, vector_path)"
   ],
   "metadata": {
    "collapsed": false,
    "ExecuteTime": {
     "end_time": "2024-02-27T00:25:46.185642Z",
     "start_time": "2024-02-27T00:25:45.814027Z"
    }
   },
   "id": "7892ad94c2f40d96",
   "execution_count": 4
  },
  {
   "cell_type": "code",
   "outputs": [
    {
     "name": "stderr",
     "output_type": "stream",
     "text": [
      "/Users/hmrguez/anaconda3/lib/python3.11/site-packages/spacy/pipeline/lemmatizer.py:211: UserWarning: [W108] The rule-based lemmatizer did not find POS annotation for one or more tokens. Check that your pipeline includes components that assign token.pos, typically 'tagger'+'attribute_ruler' or 'morphologizer'.\n",
      "  warnings.warn(Warnings.W108)\n"
     ]
    },
    {
     "ename": "KeyError",
     "evalue": "'False'",
     "output_type": "error",
     "traceback": [
      "\u001B[0;31m---------------------------------------------------------------------------\u001B[0m",
      "\u001B[0;31mKeyError\u001B[0m                                  Traceback (most recent call last)",
      "Cell \u001B[0;32mIn[9], line 2\u001B[0m\n\u001B[1;32m      1\u001B[0m query \u001B[38;5;241m=\u001B[39m \u001B[38;5;124m\"\u001B[39m\u001B[38;5;124mcovid not flu\u001B[39m\u001B[38;5;124m\"\u001B[39m\n\u001B[0;32m----> 2\u001B[0m query_results \u001B[38;5;241m=\u001B[39m Query(query, dictionary, tfidf, index, doc_ids)\n\u001B[1;32m      3\u001B[0m results \u001B[38;5;241m=\u001B[39m [(\u001B[38;5;28mid\u001B[39m, score, docs_text_raw[\u001B[38;5;28mid\u001B[39m]) \u001B[38;5;28;01mfor\u001B[39;00m \u001B[38;5;28mid\u001B[39m, score \u001B[38;5;129;01min\u001B[39;00m query_results]\n\u001B[1;32m      5\u001B[0m df \u001B[38;5;241m=\u001B[39m pd\u001B[38;5;241m.\u001B[39mDataFrame(results, columns\u001B[38;5;241m=\u001B[39m[\u001B[38;5;124m'\u001B[39m\u001B[38;5;124mID\u001B[39m\u001B[38;5;124m'\u001B[39m, \u001B[38;5;124m'\u001B[39m\u001B[38;5;124mScore\u001B[39m\u001B[38;5;124m'\u001B[39m, \u001B[38;5;124m'\u001B[39m\u001B[38;5;124mText\u001B[39m\u001B[38;5;124m'\u001B[39m])\n",
      "File \u001B[0;32m~/Programming/School/SRIModules/src/code/querier.py:72\u001B[0m, in \u001B[0;36mQuery\u001B[0;34m(query_string, dictionary, tfidf, index, id_list)\u001B[0m\n\u001B[1;32m     69\u001B[0m logical_exp_expanded \u001B[38;5;241m=\u001B[39m QueryToDfn(expanded_query)\n\u001B[1;32m     71\u001B[0m relevant_docs \u001B[38;5;241m=\u001B[39m performTfIdfQuery(query_document, logical_exp, dictionary, tfidf, index)\n\u001B[0;32m---> 72\u001B[0m relevant_docs_expanded \u001B[38;5;241m=\u001B[39m performTfIdfQuery(expanded_query, logical_exp_expanded, dictionary, tfidf, index)\n\u001B[1;32m     74\u001B[0m relevant_join_dict \u001B[38;5;241m=\u001B[39m {}\n\u001B[1;32m     76\u001B[0m \u001B[38;5;28;01mfor\u001B[39;00m docId, docScore \u001B[38;5;129;01min\u001B[39;00m relevant_docs:\n",
      "File \u001B[0;32m~/Programming/School/SRIModules/src/code/querier.py:124\u001B[0m, in \u001B[0;36mperformTfIdfQuery\u001B[0;34m(query_document, logical_exp, dictionary, tfidf, index)\u001B[0m\n\u001B[1;32m    121\u001B[0m     sims_dict[term] \u001B[38;5;241m=\u001B[39m [(docId, docScore) \u001B[38;5;28;01mfor\u001B[39;00m (docId, docScore) \u001B[38;5;129;01min\u001B[39;00m \u001B[38;5;28menumerate\u001B[39m(sims)]\n\u001B[1;32m    123\u001B[0m \u001B[38;5;66;03m# Evaluate the logical expression using the dictionary of similarity scores\u001B[39;00m\n\u001B[0;32m--> 124\u001B[0m relevant_docs \u001B[38;5;241m=\u001B[39m evaluateExpression(logical_exp, sims_dict)\n\u001B[1;32m    126\u001B[0m result \u001B[38;5;241m=\u001B[39m []\n\u001B[1;32m    127\u001B[0m \u001B[38;5;28;01mfor\u001B[39;00m doc \u001B[38;5;129;01min\u001B[39;00m relevant_docs:\n",
      "File \u001B[0;32m~/Programming/School/SRIModules/src/code/querier.py:104\u001B[0m, in \u001B[0;36mevaluateExpression\u001B[0;34m(expr, sims_dict)\u001B[0m\n\u001B[1;32m    102\u001B[0m     relevant_docs \u001B[38;5;241m=\u001B[39m \u001B[38;5;28mset\u001B[39m(notOccurrences)\n\u001B[1;32m    103\u001B[0m \u001B[38;5;28;01melse\u001B[39;00m:\n\u001B[0;32m--> 104\u001B[0m     relevant_docs \u001B[38;5;241m=\u001B[39m \u001B[38;5;28mset\u001B[39m([docId \u001B[38;5;28;01mfor\u001B[39;00m (docId, docScore) \u001B[38;5;129;01min\u001B[39;00m sims_dict[\u001B[38;5;28mstr\u001B[39m(expr)] \u001B[38;5;28;01mif\u001B[39;00m docScore \u001B[38;5;241m>\u001B[39m \u001B[38;5;241m0.0\u001B[39m])\n\u001B[1;32m    106\u001B[0m \u001B[38;5;28;01mreturn\u001B[39;00m relevant_docs\n",
      "\u001B[0;31mKeyError\u001B[0m: 'False'"
     ]
    }
   ],
   "source": [
    "query = \"covid not flu\"\n",
    "query_results = Query(query, dictionary, tfidf, index, doc_ids)\n",
    "results = [(id, score, docs_text_raw[id]) for id, score in query_results]\n",
    "\n",
    "df = pd.DataFrame(results, columns=['ID', 'Score', 'Text'])\n",
    "\n",
    "# Display the DataFrame\n",
    "df"
   ],
   "metadata": {
    "collapsed": false,
    "ExecuteTime": {
     "end_time": "2024-02-27T00:28:56.961748Z",
     "start_time": "2024-02-27T00:28:56.846544Z"
    }
   },
   "id": "70e025c4edd7c222",
   "execution_count": 9
  },
  {
   "cell_type": "code",
   "outputs": [],
   "source": [],
   "metadata": {
    "collapsed": false,
    "ExecuteTime": {
     "end_time": "2024-02-26T23:31:38.843356Z",
     "start_time": "2024-02-26T23:31:38.840267Z"
    }
   },
   "id": "2ca9f66074699fe9",
   "execution_count": 5
  }
 ],
 "metadata": {
  "kernelspec": {
   "display_name": "Python 3",
   "language": "python",
   "name": "python3"
  },
  "language_info": {
   "codemirror_mode": {
    "name": "ipython",
    "version": 2
   },
   "file_extension": ".py",
   "mimetype": "text/x-python",
   "name": "python",
   "nbconvert_exporter": "python",
   "pygments_lexer": "ipython2",
   "version": "2.7.6"
  }
 },
 "nbformat": 4,
 "nbformat_minor": 5
}
