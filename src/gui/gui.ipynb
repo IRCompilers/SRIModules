{
 "cells": [
  {
   "cell_type": "code",
   "execution_count": 1,
   "id": "initial_id",
   "metadata": {
    "collapsed": true,
    "ExecuteTime": {
     "end_time": "2024-03-02T13:13:28.804405Z",
     "start_time": "2024-03-02T13:13:26.132456Z"
    }
   },
   "outputs": [],
   "source": [
    "import os\n",
    "\n",
    "import pandas as pd\n",
    "\n",
    "from src.code.io import LoadDocumentText\n",
    "from src.code.populate import PopulateDocuments\n",
    "from src.code.querier import Querier\n",
    "from src.code.vectorizer import Vectorize"
   ]
  },
  {
   "cell_type": "code",
   "outputs": [],
   "source": [
    "base_path = os.path.join(\"..\", \"..\", \"data\")\n",
    "doc_amount = 50000\n",
    "dataset, tokenized_docs = PopulateDocuments(base_path, doc_amount)"
   ],
   "metadata": {
    "collapsed": false,
    "ExecuteTime": {
     "end_time": "2024-03-02T13:13:29.654037Z",
     "start_time": "2024-03-02T13:13:28.803090Z"
    }
   },
   "id": "94148abc58c9b542",
   "execution_count": 2
  },
  {
   "cell_type": "code",
   "outputs": [],
   "source": [
    "doc_text_raw_path = os.path.join(base_path, \"documents.txt\")\n",
    "docs_text_raw = {id: text for id, text in LoadDocumentText(doc_text_raw_path)}"
   ],
   "metadata": {
    "collapsed": false,
    "ExecuteTime": {
     "end_time": "2024-03-02T13:13:29.820374Z",
     "start_time": "2024-03-02T13:13:29.654781Z"
    }
   },
   "id": "3e79d5549e74d6ab",
   "execution_count": 3
  },
  {
   "cell_type": "code",
   "outputs": [],
   "source": [
    "doc_ids = [doc[0] for doc in tokenized_docs]\n",
    "doc_words = [doc[1] for doc in tokenized_docs]\n",
    "\n",
    "vector_path = os.path.join(\"..\", \"..\", \"data\", \"vectorized_data.pkl\")\n",
    "dictionary, corpus, tfidf, index = Vectorize(doc_words, vector_path)"
   ],
   "metadata": {
    "collapsed": false,
    "ExecuteTime": {
     "end_time": "2024-03-02T13:13:30.281719Z",
     "start_time": "2024-03-02T13:13:29.821509Z"
    }
   },
   "id": "7892ad94c2f40d96",
   "execution_count": 4
  },
  {
   "cell_type": "code",
   "outputs": [],
   "source": [
    "model = Querier(doc_ids, doc_words, base_path, dictionary, tfidf, index)"
   ],
   "metadata": {
    "collapsed": false,
    "ExecuteTime": {
     "end_time": "2024-03-02T13:13:30.294270Z",
     "start_time": "2024-03-02T13:13:30.282484Z"
    }
   },
   "id": "ef8dbd8a2d44b00",
   "execution_count": 5
  },
  {
   "cell_type": "code",
   "outputs": [
    {
     "name": "stdout",
     "output_type": "stream",
     "text": [
      "Error in parsing query:  covid & & & flu: Sympify of expression 'could not parse ' covid & & & flu'' failed, because of exception being raised:\n",
      "SyntaxError: invalid syntax (<unknown>, line 1)\n"
     ]
    },
    {
     "name": "stderr",
     "output_type": "stream",
     "text": [
      "/Users/hmrguez/anaconda3/lib/python3.11/site-packages/spacy/pipeline/lemmatizer.py:211: UserWarning: [W108] The rule-based lemmatizer did not find POS annotation for one or more tokens. Check that your pipeline includes components that assign token.pos, typically 'tagger'+'attribute_ruler' or 'morphologizer'.\n",
      "  warnings.warn(Warnings.W108)\n"
     ]
    },
    {
     "data": {
      "text/plain": "Empty DataFrame\nColumns: [ID, Score, Text]\nIndex: []",
      "text/html": "<div>\n<style scoped>\n    .dataframe tbody tr th:only-of-type {\n        vertical-align: middle;\n    }\n\n    .dataframe tbody tr th {\n        vertical-align: top;\n    }\n\n    .dataframe thead th {\n        text-align: right;\n    }\n</style>\n<table border=\"1\" class=\"dataframe\">\n  <thead>\n    <tr style=\"text-align: right;\">\n      <th></th>\n      <th>ID</th>\n      <th>Score</th>\n      <th>Text</th>\n    </tr>\n  </thead>\n  <tbody>\n  </tbody>\n</table>\n</div>"
     },
     "execution_count": 13,
     "metadata": {},
     "output_type": "execute_result"
    }
   ],
   "source": [
    "query = \"covid and flu\"\n",
    "query_results = model.Query(query)\n",
    "results = [(id, score, docs_text_raw[id]) for id, score in query_results]\n",
    "\n",
    "df = pd.DataFrame(results, columns=['ID', 'Score', 'Text'])\n",
    "\n",
    "# Display the DataFrame\n",
    "df"
   ],
   "metadata": {
    "collapsed": false,
    "ExecuteTime": {
     "end_time": "2024-03-02T13:14:42.635079Z",
     "start_time": "2024-03-02T13:14:42.615542Z"
    }
   },
   "id": "70e025c4edd7c222",
   "execution_count": 13
  },
  {
   "cell_type": "code",
   "outputs": [],
   "source": [],
   "metadata": {
    "collapsed": false,
    "ExecuteTime": {
     "end_time": "2024-03-02T13:13:30.837394Z",
     "start_time": "2024-03-02T13:13:30.836971Z"
    }
   },
   "id": "2ca9f66074699fe9",
   "execution_count": null
  }
 ],
 "metadata": {
  "kernelspec": {
   "display_name": "Python 3",
   "language": "python",
   "name": "python3"
  },
  "language_info": {
   "codemirror_mode": {
    "name": "ipython",
    "version": 2
   },
   "file_extension": ".py",
   "mimetype": "text/x-python",
   "name": "python",
   "nbconvert_exporter": "python",
   "pygments_lexer": "ipython2",
   "version": "2.7.6"
  }
 },
 "nbformat": 4,
 "nbformat_minor": 5
}
