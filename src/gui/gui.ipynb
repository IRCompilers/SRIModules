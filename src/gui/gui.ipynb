{
 "cells": [
  {
   "cell_type": "code",
   "execution_count": 1,
   "id": "initial_id",
   "metadata": {
    "collapsed": true,
    "ExecuteTime": {
     "end_time": "2024-02-29T02:06:04.621742Z",
     "start_time": "2024-02-29T02:06:03.402766Z"
    }
   },
   "outputs": [],
   "source": [
    "import os\n",
    "\n",
    "import pandas as pd\n",
    "\n",
    "from src.code.io import LoadDocumentText\n",
    "from src.code.populate import PopulateDocuments\n",
    "from src.code.querier import Querier\n",
    "from src.code.vectorizer import Vectorize"
   ]
  },
  {
   "cell_type": "code",
   "outputs": [],
   "source": [
    "base_path = os.path.join(\"..\", \"..\", \"data\")\n",
    "doc_amount = 50000\n",
    "dataset, tokenized_docs = PopulateDocuments(base_path, doc_amount)"
   ],
   "metadata": {
    "collapsed": false,
    "ExecuteTime": {
     "end_time": "2024-02-29T02:06:05.751Z",
     "start_time": "2024-02-29T02:06:05.288110Z"
    }
   },
   "id": "94148abc58c9b542",
   "execution_count": 2
  },
  {
   "cell_type": "code",
   "outputs": [],
   "source": [
    "doc_text_raw_path = os.path.join(base_path, \"documents.txt\")\n",
    "docs_text_raw = {id: text for id, text in LoadDocumentText(doc_text_raw_path)}"
   ],
   "metadata": {
    "collapsed": false,
    "ExecuteTime": {
     "end_time": "2024-02-29T02:06:06.481986Z",
     "start_time": "2024-02-29T02:06:06.374313Z"
    }
   },
   "id": "3e79d5549e74d6ab",
   "execution_count": 3
  },
  {
   "cell_type": "code",
   "outputs": [],
   "source": [
    "doc_ids = [doc[0] for doc in tokenized_docs]\n",
    "doc_words = [doc[1] for doc in tokenized_docs]\n",
    "\n",
    "vector_path = os.path.join(\"..\", \"..\", \"data\", \"vectorized_data.pkl\")\n",
    "dictionary, corpus, tfidf, index = Vectorize(doc_words, vector_path)"
   ],
   "metadata": {
    "collapsed": false,
    "ExecuteTime": {
     "end_time": "2024-02-29T02:06:09.524744Z",
     "start_time": "2024-02-29T02:06:09.310495Z"
    }
   },
   "id": "7892ad94c2f40d96",
   "execution_count": 4
  },
  {
   "cell_type": "code",
   "outputs": [],
   "source": [
    "model = Querier(doc_ids, doc_words, base_path)"
   ],
   "metadata": {
    "collapsed": false,
    "ExecuteTime": {
     "end_time": "2024-02-29T02:06:32.225247Z",
     "start_time": "2024-02-29T02:06:32.216898Z"
    }
   },
   "id": "ef8dbd8a2d44b00",
   "execution_count": 5
  },
  {
   "cell_type": "code",
   "outputs": [
    {
     "name": "stderr",
     "output_type": "stream",
     "text": [
      "/Users/hmrguez/anaconda3/lib/python3.11/site-packages/spacy/pipeline/lemmatizer.py:211: UserWarning: [W108] The rule-based lemmatizer did not find POS annotation for one or more tokens. Check that your pipeline includes components that assign token.pos, typically 'tagger'+'attribute_ruler' or 'morphologizer'.\n",
      "  warnings.warn(Warnings.W108)\n"
     ]
    },
    {
     "data": {
      "text/plain": "            ID        Score                                               Text\n0     aclzp3iy  1221.438765   The pandemic of swine flu (H1N1) influenza sp...\n1     1ykji0c8  1201.598453   The introduction of polymerase chain reaction...\n2     73mqgofa   910.792196   We have produced a new Ebola virus pseudotype...\n3     zkudc8ww   874.190315   In this work, we study the consequences of se...\n4     ozigndov   810.286361   BACKGROUND: Recent reports have described the...\n...        ...          ...                                                ...\n6440  ylv3w9wz     0.562817   Un Grupo de Expertos de la Sociedad de Enferm...\n6441  hhoa32i6     0.548746   Aan de GGD worden twee gevallen van hepatitis...\n6442  5b7ktvdm     0.466908   Infecties in het hart en de bloedbaan worden ...\n6443  f9wsi3jb     0.304795   OBJETIVO: Valorar la efectividad de las inter...\n6444  pd9c0dbt     0.203743   Dermal substitutes are currently used in plas...\n\n[6445 rows x 3 columns]",
      "text/html": "<div>\n<style scoped>\n    .dataframe tbody tr th:only-of-type {\n        vertical-align: middle;\n    }\n\n    .dataframe tbody tr th {\n        vertical-align: top;\n    }\n\n    .dataframe thead th {\n        text-align: right;\n    }\n</style>\n<table border=\"1\" class=\"dataframe\">\n  <thead>\n    <tr style=\"text-align: right;\">\n      <th></th>\n      <th>ID</th>\n      <th>Score</th>\n      <th>Text</th>\n    </tr>\n  </thead>\n  <tbody>\n    <tr>\n      <th>0</th>\n      <td>aclzp3iy</td>\n      <td>1221.438765</td>\n      <td>The pandemic of swine flu (H1N1) influenza sp...</td>\n    </tr>\n    <tr>\n      <th>1</th>\n      <td>1ykji0c8</td>\n      <td>1201.598453</td>\n      <td>The introduction of polymerase chain reaction...</td>\n    </tr>\n    <tr>\n      <th>2</th>\n      <td>73mqgofa</td>\n      <td>910.792196</td>\n      <td>We have produced a new Ebola virus pseudotype...</td>\n    </tr>\n    <tr>\n      <th>3</th>\n      <td>zkudc8ww</td>\n      <td>874.190315</td>\n      <td>In this work, we study the consequences of se...</td>\n    </tr>\n    <tr>\n      <th>4</th>\n      <td>ozigndov</td>\n      <td>810.286361</td>\n      <td>BACKGROUND: Recent reports have described the...</td>\n    </tr>\n    <tr>\n      <th>...</th>\n      <td>...</td>\n      <td>...</td>\n      <td>...</td>\n    </tr>\n    <tr>\n      <th>6440</th>\n      <td>ylv3w9wz</td>\n      <td>0.562817</td>\n      <td>Un Grupo de Expertos de la Sociedad de Enferm...</td>\n    </tr>\n    <tr>\n      <th>6441</th>\n      <td>hhoa32i6</td>\n      <td>0.548746</td>\n      <td>Aan de GGD worden twee gevallen van hepatitis...</td>\n    </tr>\n    <tr>\n      <th>6442</th>\n      <td>5b7ktvdm</td>\n      <td>0.466908</td>\n      <td>Infecties in het hart en de bloedbaan worden ...</td>\n    </tr>\n    <tr>\n      <th>6443</th>\n      <td>f9wsi3jb</td>\n      <td>0.304795</td>\n      <td>OBJETIVO: Valorar la efectividad de las inter...</td>\n    </tr>\n    <tr>\n      <th>6444</th>\n      <td>pd9c0dbt</td>\n      <td>0.203743</td>\n      <td>Dermal substitutes are currently used in plas...</td>\n    </tr>\n  </tbody>\n</table>\n<p>6445 rows × 3 columns</p>\n</div>"
     },
     "execution_count": 8,
     "metadata": {},
     "output_type": "execute_result"
    }
   ],
   "source": [
    "query = \"not flu\"\n",
    "query_results = model.Query(query, dictionary, tfidf, index, doc_ids)\n",
    "results = [(id, score, docs_text_raw[id]) for id, score in query_results]\n",
    "\n",
    "df = pd.DataFrame(results, columns=['ID', 'Score', 'Text'])\n",
    "\n",
    "# Display the DataFrame\n",
    "df"
   ],
   "metadata": {
    "collapsed": false,
    "ExecuteTime": {
     "end_time": "2024-02-29T02:10:34.592881Z",
     "start_time": "2024-02-29T02:10:34.340300Z"
    }
   },
   "id": "70e025c4edd7c222",
   "execution_count": 8
  },
  {
   "cell_type": "code",
   "outputs": [],
   "source": [],
   "metadata": {
    "collapsed": false,
    "ExecuteTime": {
     "end_time": "2024-02-26T23:31:38.843356Z",
     "start_time": "2024-02-26T23:31:38.840267Z"
    }
   },
   "id": "2ca9f66074699fe9",
   "execution_count": 5
  }
 ],
 "metadata": {
  "kernelspec": {
   "display_name": "Python 3",
   "language": "python",
   "name": "python3"
  },
  "language_info": {
   "codemirror_mode": {
    "name": "ipython",
    "version": 2
   },
   "file_extension": ".py",
   "mimetype": "text/x-python",
   "name": "python",
   "nbconvert_exporter": "python",
   "pygments_lexer": "ipython2",
   "version": "2.7.6"
  }
 },
 "nbformat": 4,
 "nbformat_minor": 5
}
