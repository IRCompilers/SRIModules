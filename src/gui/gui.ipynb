{
 "cells": [
  {
   "cell_type": "code",
   "execution_count": 1,
   "id": "initial_id",
   "metadata": {
    "collapsed": true,
    "ExecuteTime": {
     "end_time": "2024-02-25T23:43:37.424789Z",
     "start_time": "2024-02-25T23:43:35.902380Z"
    }
   },
   "outputs": [],
   "source": [
    "import os\n",
    "\n",
    "from src.code.populate import PopulateDocuments\n",
    "from src.code.querier import Query\n",
    "from src.code.vectorizer import Vectorize"
   ]
  },
  {
   "cell_type": "code",
   "outputs": [],
   "source": [
    "path = os.path.join(\"..\", \"..\", \"data\", \"tokenized_documents.txt\")\n",
    "doc_amount = 5000\n",
    "dataset, tokenized_docs = PopulateDocuments(path, doc_amount)"
   ],
   "metadata": {
    "collapsed": false,
    "ExecuteTime": {
     "end_time": "2024-02-25T23:44:17.470731Z",
     "start_time": "2024-02-25T23:43:39.861520Z"
    }
   },
   "id": "94148abc58c9b542",
   "execution_count": 2
  },
  {
   "cell_type": "code",
   "outputs": [],
   "source": [
    "query = \"covid or vaccine and not flu\""
   ],
   "metadata": {
    "collapsed": false,
    "ExecuteTime": {
     "end_time": "2024-02-25T17:34:12.948848Z",
     "start_time": "2024-02-25T17:34:12.946721Z"
    }
   },
   "id": "ba3aaf61dc6e1bac",
   "execution_count": 22
  },
  {
   "cell_type": "code",
   "outputs": [],
   "source": [
    "doc_ids = [doc[0] for doc in tokenized_docs]\n",
    "doc_text = [doc[1] for doc in tokenized_docs]\n",
    "\n",
    "dictionary, corpus, tfidf, index = Vectorize(doc_text)"
   ],
   "metadata": {
    "collapsed": false,
    "ExecuteTime": {
     "end_time": "2024-02-25T17:34:13.517283Z",
     "start_time": "2024-02-25T17:34:13.007402Z"
    }
   },
   "id": "7892ad94c2f40d96",
   "execution_count": 23
  },
  {
   "cell_type": "code",
   "outputs": [],
   "source": [
    "query_results = Query(query, dictionary, tfidf, index, doc_ids)"
   ],
   "metadata": {
    "collapsed": false,
    "ExecuteTime": {
     "end_time": "2024-02-25T17:34:13.537252Z",
     "start_time": "2024-02-25T17:34:13.518024Z"
    }
   },
   "id": "f123ce88440ac9f8",
   "execution_count": 24
  },
  {
   "cell_type": "markdown",
   "source": [],
   "metadata": {
    "collapsed": false
   },
   "id": "e1ebcc7f1d333658"
  },
  {
   "cell_type": "code",
   "outputs": [],
   "source": [
    "results = [doc for doc in tokenized_docs if doc[0] in [result[0] for result in query_results]]"
   ],
   "metadata": {
    "collapsed": false,
    "ExecuteTime": {
     "end_time": "2024-02-25T17:34:54.842376Z",
     "start_time": "2024-02-25T17:34:54.838079Z"
    }
   },
   "id": "2ca9f66074699fe9",
   "execution_count": 28
  }
 ],
 "metadata": {
  "kernelspec": {
   "display_name": "Python 3",
   "language": "python",
   "name": "python3"
  },
  "language_info": {
   "codemirror_mode": {
    "name": "ipython",
    "version": 2
   },
   "file_extension": ".py",
   "mimetype": "text/x-python",
   "name": "python",
   "nbconvert_exporter": "python",
   "pygments_lexer": "ipython2",
   "version": "2.7.6"
  }
 },
 "nbformat": 4,
 "nbformat_minor": 5
}
